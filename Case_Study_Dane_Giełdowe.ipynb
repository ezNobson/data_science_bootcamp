{
  "nbformat": 4,
  "nbformat_minor": 0,
  "metadata": {
    "colab": {
      "provenance": [],
      "authorship_tag": "ABX9TyOhhpKAf+IcF0AdOss3Osz/",
      "include_colab_link": true
    },
    "kernelspec": {
      "name": "python3",
      "display_name": "Python 3"
    },
    "language_info": {
      "name": "python"
    }
  },
  "cells": [
    {
      "cell_type": "markdown",
      "metadata": {
        "id": "view-in-github",
        "colab_type": "text"
      },
      "source": [
        "<a href=\"https://colab.research.google.com/github/ezNobson/data_science_bootcamp/blob/main/Case_Study_Dane_Gie%C5%82dowe.ipynb\" target=\"_parent\"><img src=\"https://colab.research.google.com/assets/colab-badge.svg\" alt=\"Open In Colab\"/></a>"
      ]
    },
    {
      "cell_type": "code",
      "execution_count": 1,
      "metadata": {
        "colab": {
          "base_uri": "https://localhost:8080/"
        },
        "id": "RVqY_MtK7uy1",
        "outputId": "0c55a5f0-f9bc-4b77-df39-7ca32e522050"
      },
      "outputs": [
        {
          "output_type": "stream",
          "name": "stdout",
          "text": [
            "Numpy: 1.26.4\n",
            "Pandas: 2.2.2\n"
          ]
        }
      ],
      "source": [
        "import pandas as pd\n",
        "import numpy as np\n",
        "\n",
        "print(f'Numpy: {np.__version__}')\n",
        "print(f'Pandas: {pd.__version__}')"
      ]
    },
    {
      "cell_type": "code",
      "source": [
        "def fetch_financial_data(company='AMZN'):\n",
        "    \"\"\"Pobiera dane dotyczace notowan spółek na giełdzie według symboli na serwisie stoodq.pl\"\"\"\n",
        "    import pandas_datareader.data as web #pozwala nam pobrac dane ze źródła, na loklanym środowisku jest limit pobrań i jest blokada po 30 razach chyba\n",
        "    return web.DataReader(name=company, data_source='stooq')\n",
        "\n",
        "df = fetch_financial_data()\n",
        "df.info()"
      ],
      "metadata": {
        "colab": {
          "base_uri": "https://localhost:8080/"
        },
        "id": "XLF0vVxk8GcK",
        "outputId": "65b59590-08d6-4a99-c496-f2b5e4bf0988"
      },
      "execution_count": 2,
      "outputs": [
        {
          "output_type": "stream",
          "name": "stdout",
          "text": [
            "<class 'pandas.core.frame.DataFrame'>\n",
            "DatetimeIndex: 1256 entries, 2024-12-11 to 2019-12-16\n",
            "Data columns (total 5 columns):\n",
            " #   Column  Non-Null Count  Dtype  \n",
            "---  ------  --------------  -----  \n",
            " 0   Open    1256 non-null   float64\n",
            " 1   High    1256 non-null   float64\n",
            " 2   Low     1256 non-null   float64\n",
            " 3   Close   1256 non-null   float64\n",
            " 4   Volume  1256 non-null   int64  \n",
            "dtypes: float64(4), int64(1)\n",
            "memory usage: 58.9 KB\n"
          ]
        }
      ]
    }
  ]
}